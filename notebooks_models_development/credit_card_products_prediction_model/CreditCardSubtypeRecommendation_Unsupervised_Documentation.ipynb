{
 "cells": [
  {
   "cell_type": "markdown",
   "id": "cf6b1401",
   "metadata": {},
   "source": [
    "# 📊 Customer Spending Pattern Analysis & Credit Card Recommendation\n",
    "\n",
    "**Objective**:  \n",
    "This notebook identifies specific customer segments based on their historical spending patterns to recommend targeted cashback credit cards.\n",
    "\n",
    "**Workflow Overview**:\n",
    "- Start with transaction data for customers identified as suitable prospects (**new addition**).\n",
    "- Categorize customer transactions using Merchant Category Codes (**MCCs**).\n",
    "- Create distinct customer segments using unsupervised clustering (KMeans).\n",
    "- Determine dominant spending categories per segment.\n",
    "- Recommend tailored cashback credit cards based on spending patterns.\n",
    "- Apply a threshold to ensure recommendations target customers with meaningful affinity.\n",
    "\n",
    "**🔑 Key Change from Earlier Version**:  \n",
    "Instead of using all customers, this notebook specifically analyzes only those customers already identified by our preliminary binary classification model (`recommend_card`) as suitable for credit card recommendations.\n"
   ]
  },
  {
   "cell_type": "markdown",
   "id": "6827b84e",
   "metadata": {},
   "source": [
    "## 🗂️ Phase 0: Loading Transaction Data and Filtering Prospects\n",
    "\n",
    "**Purpose**:  \n",
    "Load raw transaction data and filter it down to include **only customers flagged** by our previous supervised binary model as strong candidates for credit card offerings.\n",
    "\n",
    "**Steps**:\n",
    "- Load raw transaction dataset (`transaction_data.csv`).\n",
    "- Load results from binary classification model (`customer_recommendation_flags.csv`), which identifies customers as either `1` (recommended for a credit card) or `0` (not recommended).\n",
    "- Filter the transaction dataset to retain only transactions related to customers flagged as suitable (`recommend_card == 1`).\n",
    "\n",
    "**Reasoning**:  \n",
    "Focusing only on recommended customers improves targeting effectiveness, reducing resource wastage on unlikely prospects.\n"
   ]
  },
  {
   "cell_type": "markdown",
   "id": "9ba666a9",
   "metadata": {},
   "source": [
    "## 🏷️ Phase 1: Mapping MCC Codes to Spend Categories\n",
    "\n",
    "**Purpose**:  \n",
    "Translate detailed Merchant Category Codes (**MCCs**) from transaction data into broader, meaningful spending categories (e.g., Fuel, Travel, Entertainment).\n",
    "\n",
    "**Steps**:\n",
    "- Define a clear mapping (`credit_card_categories`) from specific MCC codes to high-level spending categories.\n",
    "- Create an inverse mapping (`mcc_to_cat`) for quick MCC-to-category lookups.\n",
    "- Map each individual transaction's MCC code to the corresponding spending category. Transactions with unknown MCCs are labeled as `UNMAPPED`.\n",
    "\n",
    "**Reasoning**:  \n",
    "Grouping specific transactions into broad categories makes it easier to interpret customer spending habits clearly and intuitively.\n"
   ]
  },
  {
   "cell_type": "markdown",
   "id": "2a0984d6",
   "metadata": {},
   "source": [
    "## 📈 Phase 2: Aggregating Spending Patterns by Customer\n",
    "\n",
    "**Purpose**:  \n",
    "Summarize each customer's transactions to understand their spending patterns clearly across different categories.\n",
    "\n",
    "**Steps**:\n",
    "- Aggregate transaction amounts per customer, grouped by each spend category.\n",
    "- Transform the aggregated data into a customer-level wide format (`spend_<CATEGORY>`) showing total spend per category.\n",
    "- Calculate the percentage (`spend_<CATEGORY>_pct`) of each category relative to a customer's total spending.\n",
    "\n",
    "**Reasoning**:  \n",
    "Using relative percentages helps identify the most important spending category per customer, making segments directly comparable regardless of absolute spending levels.\n"
   ]
  },
  {
   "cell_type": "markdown",
   "id": "68e32dd5",
   "metadata": {},
   "source": [
    "## 🧮 Phase 3: Feature Selection and Data Standardization\n",
    "\n",
    "**Purpose**:  \n",
    "Prepare data for clustering by selecting relevant features and standardizing them to ensure each category has equal influence.\n",
    "\n",
    "**Steps**:\n",
    "- Select spending percentage columns (`spend_<CATEGORY>_pct`) as features.\n",
    "- Standardize these features (mean = 0, variance = 1) using StandardScaler.\n",
    "\n",
    "**Reasoning**:  \n",
    "Standardization ensures all categories contribute equally to clustering, preventing biases toward categories with inherently larger numerical values.\n"
   ]
  },
  {
   "cell_type": "markdown",
   "id": "125ad22a",
   "metadata": {},
   "source": [
    "## 🎯 Phase 4: Dimensionality Reduction (PCA) and Optimal Cluster Determination\n",
    "\n",
    "**Purpose**:  \n",
    "Visualize and determine the optimal number of customer segments.\n",
    "\n",
    "**Steps**:\n",
    "- Perform Principal Component Analysis (**PCA**) for 2-dimensional visualization of customer segments.\n",
    "- Calculate clustering quality metrics (Silhouette Score and Davies–Bouldin Index) for different numbers of clusters (k = 2 to 8).\n",
    "- Choose the number of clusters (**k**) that maximizes the silhouette score (higher = better) and minimizes Davies–Bouldin (lower = better).\n",
    "\n",
    "**Reasoning**:  \n",
    "Choosing the right number of clusters ensures meaningful segments, balancing interpretability and statistical performance.\n",
    "\n"
   ]
  },
  {
   "cell_type": "markdown",
   "id": "8e3b51e5",
   "metadata": {},
   "source": [
    "## 🔍 Phase 5: Final Customer Clustering and Segment Profiling\n",
    "\n",
    "**Purpose**:  \n",
    "Cluster customers into segments using the optimal number of clusters and identify each segment's key spending characteristics.\n",
    "\n",
    "**Steps**:\n",
    "- Apply KMeans clustering with the chosen optimal number of clusters (**k=7**).\n",
    "- Label each customer with their assigned cluster.\n",
    "- Calculate the average spending percentage for each category within every cluster to create meaningful segment profiles.\n",
    "\n",
    "**Reasoning**:  \n",
    "Profiling each segment helps clarify which customers share similar spending habits and allows clear targeting for tailored marketing strategies.\n"
   ]
  },
  {
   "cell_type": "markdown",
   "id": "0b0e3d2d",
   "metadata": {},
   "source": [
    "## 💳 Phase 6: Credit Card Recommendation Mapping and Customer Affinity Scoring\n",
    "\n",
    "**Purpose**:  \n",
    "Match each customer segment's dominant spending category to a suitable cashback credit card product and measure individual customer affinity toward that recommended product.\n",
    "\n",
    "**Steps**:\n",
    "- Identify each cluster's dominant spending category (the category with the highest average spend percentage).\n",
    "- Map these dominant categories to specific cashback card products (e.g., \"Fuel Rewards Card\" for the \"Fuel\" category).\n",
    "- Calculate an affinity score (`recommendation_score`) for each customer, representing their individual percentage spend in the segment's dominant category.\n",
    "\n",
    "**Reasoning**:  \n",
    "Affinity scores quantify the strength of a customer's spending alignment with recommended credit cards, enabling prioritized marketing efforts.\n"
   ]
  },
  {
   "cell_type": "markdown",
   "id": "372bb561",
   "metadata": {},
   "source": [
    "## 🚦 Phase 7: Applying a Threshold to Recommendations (40% Cutoff)\n",
    "\n",
    "**Purpose**:  \n",
    "Ensure the final credit card recommendations target only those customers with a strong spending alignment to the recommended card product.\n",
    "\n",
    "**Steps**:\n",
    "- Define a minimum affinity threshold (**30%**).\n",
    "- Recommend the card product to customers meeting or exceeding this threshold.\n",
    "- Label customers below the threshold as \"No Targeted Offer\" to indicate they should not receive a specialized cashback offer.\n",
    "\n",
    "**Reasoning**:  \n",
    "Applying a threshold improves the targeting efficiency and conversion rates by focusing marketing resources only on customers highly likely to respond positively.\n"
   ]
  }
 ],
 "metadata": {
  "language_info": {
   "name": "python"
  }
 },
 "nbformat": 4,
 "nbformat_minor": 5
}
