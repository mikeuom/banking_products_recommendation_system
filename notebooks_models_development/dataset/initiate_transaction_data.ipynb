{
 "cells": [
  {
   "cell_type": "markdown",
   "id": "f87d715f5d13d6a8",
   "metadata": {},
   "source": [
    "## Generate Transactions Data"
   ]
  },
  {
   "cell_type": "markdown",
   "id": "0dae61fa",
   "metadata": {},
   "source": [
    "With the original transactional dataset from Kaggle, this notebook was used to generate our version of transactional dataset"
   ]
  },
  {
   "cell_type": "code",
   "execution_count": 2,
   "id": "initial_id",
   "metadata": {
    "ExecuteTime": {
     "end_time": "2025-04-16T17:44:21.261633Z",
     "start_time": "2025-04-16T17:44:21.259097Z"
    },
    "collapsed": true
   },
   "outputs": [],
   "source": [
    "import pandas as pd\n",
    "import numpy as np"
   ]
  },
  {
   "cell_type": "code",
   "execution_count": 3,
   "id": "2c8feb33615d772e",
   "metadata": {
    "ExecuteTime": {
     "end_time": "2025-04-16T17:44:21.271799Z",
     "start_time": "2025-04-16T17:44:21.269936Z"
    }
   },
   "outputs": [],
   "source": [
    "np.random.seed(42)"
   ]
  },
  {
   "cell_type": "code",
   "execution_count": 4,
   "id": "3ffbdfa061621683",
   "metadata": {
    "ExecuteTime": {
     "end_time": "2025-04-16T17:44:30.227536Z",
     "start_time": "2025-04-16T17:44:21.282020Z"
    }
   },
   "outputs": [
    {
     "name": "stdout",
     "output_type": "stream",
     "text": [
      "<class 'pandas.core.frame.DataFrame'>\n",
      "RangeIndex: 13305915 entries, 0 to 13305914\n",
      "Data columns (total 12 columns):\n",
      " #   Column          Dtype  \n",
      "---  ------          -----  \n",
      " 0   id              int64  \n",
      " 1   date            object \n",
      " 2   client_id       int64  \n",
      " 3   card_id         int64  \n",
      " 4   amount          object \n",
      " 5   use_chip        object \n",
      " 6   merchant_id     int64  \n",
      " 7   merchant_city   object \n",
      " 8   merchant_state  object \n",
      " 9   zip             float64\n",
      " 10  mcc             int64  \n",
      " 11  errors          object \n",
      "dtypes: float64(1), int64(5), object(6)\n",
      "memory usage: 1.2+ GB\n"
     ]
    }
   ],
   "source": [
    "# Load the original transactional dataset\n",
    "trans_df = pd.read_csv('original-datasets-from-kaggle/financial-transactions/transactions_data.csv')\n",
    "trans_df.info()"
   ]
  },
  {
   "cell_type": "code",
   "execution_count": 61,
   "id": "a4acc46e3f89324f",
   "metadata": {
    "ExecuteTime": {
     "end_time": "2025-04-16T17:44:31.625425Z",
     "start_time": "2025-04-16T17:44:30.229054Z"
    }
   },
   "outputs": [
    {
     "name": "stdout",
     "output_type": "stream",
     "text": [
      "<class 'pandas.core.frame.DataFrame'>\n",
      "Index: 13094522 entries, 0 to 13305914\n",
      "Data columns (total 7 columns):\n",
      " #   Column       Dtype \n",
      "---  ------       ----- \n",
      " 0   id           int64 \n",
      " 1   date         object\n",
      " 2   card_id      int64 \n",
      " 3   amount       object\n",
      " 4   use_chip     object\n",
      " 5   merchant_id  int64 \n",
      " 6   mcc          int64 \n",
      "dtypes: int64(4), object(3)\n",
      "memory usage: 799.2+ MB\n"
     ]
    },
    {
     "data": {
      "text/html": [
       "<div>\n",
       "<style scoped>\n",
       "    .dataframe tbody tr th:only-of-type {\n",
       "        vertical-align: middle;\n",
       "    }\n",
       "\n",
       "    .dataframe tbody tr th {\n",
       "        vertical-align: top;\n",
       "    }\n",
       "\n",
       "    .dataframe thead th {\n",
       "        text-align: right;\n",
       "    }\n",
       "</style>\n",
       "<table border=\"1\" class=\"dataframe\">\n",
       "  <thead>\n",
       "    <tr style=\"text-align: right;\">\n",
       "      <th></th>\n",
       "      <th>id</th>\n",
       "      <th>date</th>\n",
       "      <th>card_id</th>\n",
       "      <th>amount</th>\n",
       "      <th>use_chip</th>\n",
       "      <th>merchant_id</th>\n",
       "      <th>mcc</th>\n",
       "    </tr>\n",
       "  </thead>\n",
       "  <tbody>\n",
       "    <tr>\n",
       "      <th>0</th>\n",
       "      <td>7475327</td>\n",
       "      <td>2010-01-01 00:01:00</td>\n",
       "      <td>2972</td>\n",
       "      <td>$-77.00</td>\n",
       "      <td>Swipe Transaction</td>\n",
       "      <td>59935</td>\n",
       "      <td>5499</td>\n",
       "    </tr>\n",
       "    <tr>\n",
       "      <th>1</th>\n",
       "      <td>7475328</td>\n",
       "      <td>2010-01-01 00:02:00</td>\n",
       "      <td>4575</td>\n",
       "      <td>$14.57</td>\n",
       "      <td>Swipe Transaction</td>\n",
       "      <td>67570</td>\n",
       "      <td>5311</td>\n",
       "    </tr>\n",
       "    <tr>\n",
       "      <th>2</th>\n",
       "      <td>7475329</td>\n",
       "      <td>2010-01-01 00:02:00</td>\n",
       "      <td>102</td>\n",
       "      <td>$80.00</td>\n",
       "      <td>Swipe Transaction</td>\n",
       "      <td>27092</td>\n",
       "      <td>4829</td>\n",
       "    </tr>\n",
       "    <tr>\n",
       "      <th>3</th>\n",
       "      <td>7475331</td>\n",
       "      <td>2010-01-01 00:05:00</td>\n",
       "      <td>2860</td>\n",
       "      <td>$200.00</td>\n",
       "      <td>Swipe Transaction</td>\n",
       "      <td>27092</td>\n",
       "      <td>4829</td>\n",
       "    </tr>\n",
       "    <tr>\n",
       "      <th>4</th>\n",
       "      <td>7475332</td>\n",
       "      <td>2010-01-01 00:06:00</td>\n",
       "      <td>3915</td>\n",
       "      <td>$46.41</td>\n",
       "      <td>Swipe Transaction</td>\n",
       "      <td>13051</td>\n",
       "      <td>5813</td>\n",
       "    </tr>\n",
       "    <tr>\n",
       "      <th>5</th>\n",
       "      <td>7475333</td>\n",
       "      <td>2010-01-01 00:07:00</td>\n",
       "      <td>165</td>\n",
       "      <td>$4.81</td>\n",
       "      <td>Swipe Transaction</td>\n",
       "      <td>20519</td>\n",
       "      <td>5942</td>\n",
       "    </tr>\n",
       "    <tr>\n",
       "      <th>6</th>\n",
       "      <td>7475334</td>\n",
       "      <td>2010-01-01 00:09:00</td>\n",
       "      <td>2972</td>\n",
       "      <td>$77.00</td>\n",
       "      <td>Swipe Transaction</td>\n",
       "      <td>59935</td>\n",
       "      <td>5499</td>\n",
       "    </tr>\n",
       "    <tr>\n",
       "      <th>7</th>\n",
       "      <td>7475335</td>\n",
       "      <td>2010-01-01 00:14:00</td>\n",
       "      <td>2140</td>\n",
       "      <td>$26.46</td>\n",
       "      <td>Online Transaction</td>\n",
       "      <td>39021</td>\n",
       "      <td>4784</td>\n",
       "    </tr>\n",
       "    <tr>\n",
       "      <th>8</th>\n",
       "      <td>7475336</td>\n",
       "      <td>2010-01-01 00:21:00</td>\n",
       "      <td>5131</td>\n",
       "      <td>$261.58</td>\n",
       "      <td>Online Transaction</td>\n",
       "      <td>50292</td>\n",
       "      <td>7801</td>\n",
       "    </tr>\n",
       "    <tr>\n",
       "      <th>9</th>\n",
       "      <td>7475337</td>\n",
       "      <td>2010-01-01 00:21:00</td>\n",
       "      <td>1112</td>\n",
       "      <td>$10.74</td>\n",
       "      <td>Swipe Transaction</td>\n",
       "      <td>3864</td>\n",
       "      <td>5813</td>\n",
       "    </tr>\n",
       "  </tbody>\n",
       "</table>\n",
       "</div>"
      ],
      "text/plain": [
       "        id                 date  card_id   amount            use_chip  \\\n",
       "0  7475327  2010-01-01 00:01:00     2972  $-77.00   Swipe Transaction   \n",
       "1  7475328  2010-01-01 00:02:00     4575   $14.57   Swipe Transaction   \n",
       "2  7475329  2010-01-01 00:02:00      102   $80.00   Swipe Transaction   \n",
       "3  7475331  2010-01-01 00:05:00     2860  $200.00   Swipe Transaction   \n",
       "4  7475332  2010-01-01 00:06:00     3915   $46.41   Swipe Transaction   \n",
       "5  7475333  2010-01-01 00:07:00      165    $4.81   Swipe Transaction   \n",
       "6  7475334  2010-01-01 00:09:00     2972   $77.00   Swipe Transaction   \n",
       "7  7475335  2010-01-01 00:14:00     2140   $26.46  Online Transaction   \n",
       "8  7475336  2010-01-01 00:21:00     5131  $261.58  Online Transaction   \n",
       "9  7475337  2010-01-01 00:21:00     1112   $10.74   Swipe Transaction   \n",
       "\n",
       "   merchant_id   mcc  \n",
       "0        59935  5499  \n",
       "1        67570  5311  \n",
       "2        27092  4829  \n",
       "3        27092  4829  \n",
       "4        13051  5813  \n",
       "5        20519  5942  \n",
       "6        59935  5499  \n",
       "7        39021  4784  \n",
       "8        50292  7801  \n",
       "9         3864  5813  "
      ]
     },
     "execution_count": 61,
     "metadata": {},
     "output_type": "execute_result"
    }
   ],
   "source": [
    "# Drop features that will not be used along with the samples having errors regarding transactional details\n",
    "trans_df = trans_df[trans_df['errors'].isna()]\n",
    "trans_df.drop(['merchant_city', 'merchant_state', 'zip', 'errors', 'client_id'], axis=1, inplace=True)\n",
    "trans_df.info()\n",
    "trans_df.head(10)"
   ]
  },
  {
   "cell_type": "code",
   "execution_count": 62,
   "id": "1c6e07f641506ccf",
   "metadata": {
    "ExecuteTime": {
     "end_time": "2025-04-16T17:44:31.636592Z",
     "start_time": "2025-04-16T17:44:31.626233Z"
    }
   },
   "outputs": [
    {
     "name": "stdout",
     "output_type": "stream",
     "text": [
      "<class 'pandas.core.frame.DataFrame'>\n",
      "RangeIndex: 6146 entries, 0 to 6145\n",
      "Data columns (total 2 columns):\n",
      " #   Column     Non-Null Count  Dtype \n",
      "---  ------     --------------  ----- \n",
      " 0   id         6146 non-null   int64 \n",
      " 1   card_type  6146 non-null   object\n",
      "dtypes: int64(1), object(1)\n",
      "memory usage: 96.2+ KB\n"
     ]
    }
   ],
   "source": [
    "# Merging with to find the type of cards that was used for the transaction\n",
    "card_df = pd.read_csv('original-datasets-from-kaggle/financial-transactions/cards_data.csv')\n",
    "card_df = card_df[['id', 'card_type']]\n",
    "card_df.info()"
   ]
  },
  {
   "cell_type": "code",
   "execution_count": 63,
   "id": "f89a7fa9b6131928",
   "metadata": {
    "ExecuteTime": {
     "end_time": "2025-04-16T17:44:32.640754Z",
     "start_time": "2025-04-16T17:44:31.637735Z"
    }
   },
   "outputs": [
    {
     "name": "stdout",
     "output_type": "stream",
     "text": [
      "<class 'pandas.core.frame.DataFrame'>\n",
      "RangeIndex: 13094522 entries, 0 to 13094521\n",
      "Data columns (total 8 columns):\n",
      " #   Column            Dtype \n",
      "---  ------            ----- \n",
      " 0   transaction_id    int64 \n",
      " 1   date              object\n",
      " 2   card_id           int64 \n",
      " 3   amount            object\n",
      " 4   transaction_type  object\n",
      " 5   merchant_id       int64 \n",
      " 6   mcc               int64 \n",
      " 7   card_type         object\n",
      "dtypes: int64(4), object(4)\n",
      "memory usage: 799.2+ MB\n"
     ]
    },
    {
     "data": {
      "text/html": [
       "<div>\n",
       "<style scoped>\n",
       "    .dataframe tbody tr th:only-of-type {\n",
       "        vertical-align: middle;\n",
       "    }\n",
       "\n",
       "    .dataframe tbody tr th {\n",
       "        vertical-align: top;\n",
       "    }\n",
       "\n",
       "    .dataframe thead th {\n",
       "        text-align: right;\n",
       "    }\n",
       "</style>\n",
       "<table border=\"1\" class=\"dataframe\">\n",
       "  <thead>\n",
       "    <tr style=\"text-align: right;\">\n",
       "      <th></th>\n",
       "      <th>transaction_id</th>\n",
       "      <th>date</th>\n",
       "      <th>card_id</th>\n",
       "      <th>amount</th>\n",
       "      <th>transaction_type</th>\n",
       "      <th>merchant_id</th>\n",
       "      <th>mcc</th>\n",
       "      <th>card_type</th>\n",
       "    </tr>\n",
       "  </thead>\n",
       "  <tbody>\n",
       "    <tr>\n",
       "      <th>0</th>\n",
       "      <td>7475327</td>\n",
       "      <td>2010-01-01 00:01:00</td>\n",
       "      <td>2972</td>\n",
       "      <td>$-77.00</td>\n",
       "      <td>Swipe Transaction</td>\n",
       "      <td>59935</td>\n",
       "      <td>5499</td>\n",
       "      <td>Debit (Prepaid)</td>\n",
       "    </tr>\n",
       "    <tr>\n",
       "      <th>1</th>\n",
       "      <td>7475328</td>\n",
       "      <td>2010-01-01 00:02:00</td>\n",
       "      <td>4575</td>\n",
       "      <td>$14.57</td>\n",
       "      <td>Swipe Transaction</td>\n",
       "      <td>67570</td>\n",
       "      <td>5311</td>\n",
       "      <td>Credit</td>\n",
       "    </tr>\n",
       "    <tr>\n",
       "      <th>2</th>\n",
       "      <td>7475329</td>\n",
       "      <td>2010-01-01 00:02:00</td>\n",
       "      <td>102</td>\n",
       "      <td>$80.00</td>\n",
       "      <td>Swipe Transaction</td>\n",
       "      <td>27092</td>\n",
       "      <td>4829</td>\n",
       "      <td>Debit</td>\n",
       "    </tr>\n",
       "    <tr>\n",
       "      <th>3</th>\n",
       "      <td>7475331</td>\n",
       "      <td>2010-01-01 00:05:00</td>\n",
       "      <td>2860</td>\n",
       "      <td>$200.00</td>\n",
       "      <td>Swipe Transaction</td>\n",
       "      <td>27092</td>\n",
       "      <td>4829</td>\n",
       "      <td>Debit</td>\n",
       "    </tr>\n",
       "    <tr>\n",
       "      <th>4</th>\n",
       "      <td>7475332</td>\n",
       "      <td>2010-01-01 00:06:00</td>\n",
       "      <td>3915</td>\n",
       "      <td>$46.41</td>\n",
       "      <td>Swipe Transaction</td>\n",
       "      <td>13051</td>\n",
       "      <td>5813</td>\n",
       "      <td>Debit</td>\n",
       "    </tr>\n",
       "    <tr>\n",
       "      <th>5</th>\n",
       "      <td>7475333</td>\n",
       "      <td>2010-01-01 00:07:00</td>\n",
       "      <td>165</td>\n",
       "      <td>$4.81</td>\n",
       "      <td>Swipe Transaction</td>\n",
       "      <td>20519</td>\n",
       "      <td>5942</td>\n",
       "      <td>Debit (Prepaid)</td>\n",
       "    </tr>\n",
       "    <tr>\n",
       "      <th>6</th>\n",
       "      <td>7475334</td>\n",
       "      <td>2010-01-01 00:09:00</td>\n",
       "      <td>2972</td>\n",
       "      <td>$77.00</td>\n",
       "      <td>Swipe Transaction</td>\n",
       "      <td>59935</td>\n",
       "      <td>5499</td>\n",
       "      <td>Debit (Prepaid)</td>\n",
       "    </tr>\n",
       "    <tr>\n",
       "      <th>7</th>\n",
       "      <td>7475335</td>\n",
       "      <td>2010-01-01 00:14:00</td>\n",
       "      <td>2140</td>\n",
       "      <td>$26.46</td>\n",
       "      <td>Online Transaction</td>\n",
       "      <td>39021</td>\n",
       "      <td>4784</td>\n",
       "      <td>Debit (Prepaid)</td>\n",
       "    </tr>\n",
       "    <tr>\n",
       "      <th>8</th>\n",
       "      <td>7475336</td>\n",
       "      <td>2010-01-01 00:21:00</td>\n",
       "      <td>5131</td>\n",
       "      <td>$261.58</td>\n",
       "      <td>Online Transaction</td>\n",
       "      <td>50292</td>\n",
       "      <td>7801</td>\n",
       "      <td>Debit</td>\n",
       "    </tr>\n",
       "    <tr>\n",
       "      <th>9</th>\n",
       "      <td>7475337</td>\n",
       "      <td>2010-01-01 00:21:00</td>\n",
       "      <td>1112</td>\n",
       "      <td>$10.74</td>\n",
       "      <td>Swipe Transaction</td>\n",
       "      <td>3864</td>\n",
       "      <td>5813</td>\n",
       "      <td>Debit (Prepaid)</td>\n",
       "    </tr>\n",
       "  </tbody>\n",
       "</table>\n",
       "</div>"
      ],
      "text/plain": [
       "   transaction_id                 date  card_id   amount    transaction_type  \\\n",
       "0         7475327  2010-01-01 00:01:00     2972  $-77.00   Swipe Transaction   \n",
       "1         7475328  2010-01-01 00:02:00     4575   $14.57   Swipe Transaction   \n",
       "2         7475329  2010-01-01 00:02:00      102   $80.00   Swipe Transaction   \n",
       "3         7475331  2010-01-01 00:05:00     2860  $200.00   Swipe Transaction   \n",
       "4         7475332  2010-01-01 00:06:00     3915   $46.41   Swipe Transaction   \n",
       "5         7475333  2010-01-01 00:07:00      165    $4.81   Swipe Transaction   \n",
       "6         7475334  2010-01-01 00:09:00     2972   $77.00   Swipe Transaction   \n",
       "7         7475335  2010-01-01 00:14:00     2140   $26.46  Online Transaction   \n",
       "8         7475336  2010-01-01 00:21:00     5131  $261.58  Online Transaction   \n",
       "9         7475337  2010-01-01 00:21:00     1112   $10.74   Swipe Transaction   \n",
       "\n",
       "   merchant_id   mcc        card_type  \n",
       "0        59935  5499  Debit (Prepaid)  \n",
       "1        67570  5311           Credit  \n",
       "2        27092  4829            Debit  \n",
       "3        27092  4829            Debit  \n",
       "4        13051  5813            Debit  \n",
       "5        20519  5942  Debit (Prepaid)  \n",
       "6        59935  5499  Debit (Prepaid)  \n",
       "7        39021  4784  Debit (Prepaid)  \n",
       "8        50292  7801            Debit  \n",
       "9         3864  5813  Debit (Prepaid)  "
      ]
     },
     "execution_count": 63,
     "metadata": {},
     "output_type": "execute_result"
    }
   ],
   "source": [
    "# Left join two tables to get card_type (Debit, Credit, Debit Prepaid)\n",
    "df = trans_df.merge(card_df, how='left', left_on='card_id', right_on='id')\n",
    "df.rename(columns={'id_x': 'transaction_id', 'use_chip': 'transaction_type'}, inplace=True)\n",
    "df.drop(['id_y'], axis=1, inplace=True)\n",
    "df.info()\n",
    "df.head(10)"
   ]
  },
  {
   "cell_type": "code",
   "execution_count": 64,
   "id": "6f8fdd1646fc1e42",
   "metadata": {
    "ExecuteTime": {
     "end_time": "2025-04-16T17:44:34.834135Z",
     "start_time": "2025-04-16T17:44:32.641403Z"
    }
   },
   "outputs": [],
   "source": [
    "# Transform amount\n",
    "df['amount'] = df['amount'].str.replace('$', '', regex=False).astype(float)\n",
    "\n",
    "# Add currency\n",
    "df['currency'] = '£'"
   ]
  },
  {
   "cell_type": "code",
   "execution_count": 65,
   "id": "a0e030e19693ff1",
   "metadata": {
    "ExecuteTime": {
     "end_time": "2025-04-16T17:44:35.673528Z",
     "start_time": "2025-04-16T17:44:34.834839Z"
    }
   },
   "outputs": [],
   "source": [
    "# Generate new transaction dates (2021 to 2024)\n",
    "def random_dates(start, end, n=len(df)):\n",
    "\n",
    "    start_un = start.value//10**9\n",
    "    end_un = end.value//10**9\n",
    "    \n",
    "    return pd.to_datetime(np.random.randint(start_un, end_un, n), unit='s')\n",
    "\n",
    "start = pd.to_datetime('2021-01-01')\n",
    "end = pd.to_datetime('2024-01-01')\n",
    "df['date'] = random_dates(start, end)"
   ]
  },
  {
   "cell_type": "code",
   "execution_count": 66,
   "id": "e3c46bb3b4dbe5d9",
   "metadata": {
    "ExecuteTime": {
     "end_time": "2025-04-16T17:44:36.543799Z",
     "start_time": "2025-04-16T17:44:35.674278Z"
    }
   },
   "outputs": [],
   "source": [
    "# Map Customer IDs from customer dataset to transaction dataset\n",
    "train_df = pd.read_csv('project-dataset/customer.csv')\n",
    "customer_ids = train_df['customer_id'].unique()\n",
    "df['customer_id'] = np.random.choice(\n",
    "    customer_ids, \n",
    "    size=len(df), \n",
    "    replace=True)"
   ]
  },
  {
   "cell_type": "code",
   "execution_count": 67,
   "id": "5a10092c36fc83a4",
   "metadata": {
    "ExecuteTime": {
     "end_time": "2025-04-16T17:44:36.547809Z",
     "start_time": "2025-04-16T17:44:36.544534Z"
    }
   },
   "outputs": [
    {
     "name": "stdout",
     "output_type": "stream",
     "text": [
      "<class 'pandas.core.frame.DataFrame'>\n",
      "RangeIndex: 13094522 entries, 0 to 13094521\n",
      "Data columns (total 10 columns):\n",
      " #   Column            Dtype         \n",
      "---  ------            -----         \n",
      " 0   transaction_id    int64         \n",
      " 1   date              datetime64[ns]\n",
      " 2   card_id           int64         \n",
      " 3   amount            float64       \n",
      " 4   transaction_type  object        \n",
      " 5   merchant_id       int64         \n",
      " 6   mcc               int64         \n",
      " 7   card_type         object        \n",
      " 8   currency          object        \n",
      " 9   customer_id       int64         \n",
      "dtypes: datetime64[ns](1), float64(1), int64(5), object(3)\n",
      "memory usage: 999.0+ MB\n"
     ]
    }
   ],
   "source": [
    "df.info()"
   ]
  },
  {
   "cell_type": "code",
   "execution_count": 68,
   "id": "763cabfdbdbf3b5b",
   "metadata": {
    "ExecuteTime": {
     "end_time": "2025-04-16T17:44:37.171831Z",
     "start_time": "2025-04-16T17:44:36.548471Z"
    }
   },
   "outputs": [
    {
     "name": "stdout",
     "output_type": "stream",
     "text": [
      "12433446 650506\n"
     ]
    }
   ],
   "source": [
    "withdrawals = len(df[df['amount'] > 0])\n",
    "deposits = len(df[df['amount'] < 0])\n",
    "\n",
    "print(withdrawals, deposits)"
   ]
  },
  {
   "cell_type": "code",
   "execution_count": 69,
   "id": "7d08bbc1eb50b401",
   "metadata": {
    "ExecuteTime": {
     "end_time": "2025-04-16T17:44:37.318643Z",
     "start_time": "2025-04-16T17:44:37.173474Z"
    }
   },
   "outputs": [],
   "source": [
    "# We determined that feature having positive values in transferred amount are Withdrawals, while the one having negative values will be Withdrawals.\n",
    "# These features will serve the predictions of product-specific models (loans, credit cards products)\n",
    "df.loc[df['amount'] < 0, 'transaction_type'] = \"Deposit\"\n",
    "df.loc[df['amount'] > 0, 'transaction_type'] = \"Withdrawal\"\n",
    "df['amount'] = df['amount'].abs()"
   ]
  },
  {
   "cell_type": "code",
   "execution_count": 70,
   "id": "4063ceb52260605e",
   "metadata": {
    "ExecuteTime": {
     "end_time": "2025-04-16T17:44:37.723872Z",
     "start_time": "2025-04-16T17:44:37.319447Z"
    }
   },
   "outputs": [
    {
     "name": "stdout",
     "output_type": "stream",
     "text": [
      "13083952 0\n"
     ]
    }
   ],
   "source": [
    "positive_amount = len(df[df['amount'] > 0])\n",
    "negative_amount = len(df[df['amount'] < 0])\n",
    "\n",
    "print(positive_amount, negative_amount)"
   ]
  },
  {
   "cell_type": "code",
   "execution_count": 71,
   "id": "7f8b3c9fb8ff1ad4",
   "metadata": {
    "ExecuteTime": {
     "end_time": "2025-04-16T17:45:13.241333Z",
     "start_time": "2025-04-16T17:44:37.724545Z"
    }
   },
   "outputs": [],
   "source": [
    "# Export the dataset\n",
    "df.to_csv('project-dataset/transactions.csv', index=False)"
   ]
  }
 ],
 "metadata": {
  "kernelspec": {
   "display_name": "base",
   "language": "python",
   "name": "python3"
  },
  "language_info": {
   "codemirror_mode": {
    "name": "ipython",
    "version": 3
   },
   "file_extension": ".py",
   "mimetype": "text/x-python",
   "name": "python",
   "nbconvert_exporter": "python",
   "pygments_lexer": "ipython3",
   "version": "3.12.7"
  }
 },
 "nbformat": 4,
 "nbformat_minor": 5
}
