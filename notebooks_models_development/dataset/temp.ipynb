{
 "cells": [
  {
   "cell_type": "code",
   "execution_count": 1,
   "id": "86bcb8e1",
   "metadata": {},
   "outputs": [],
   "source": [
    "import pandas as pd \n",
    "import matplotlib as plt"
   ]
  },
  {
   "cell_type": "code",
   "execution_count": 2,
   "id": "2b1af1ad",
   "metadata": {},
   "outputs": [
    {
     "name": "stderr",
     "output_type": "stream",
     "text": [
      "/var/folders/02/r4n5pmm16xzc0p1m4wrn_70r0000gn/T/ipykernel_56888/3056198374.py:2: DtypeWarning: Columns (5,8,11,15) have mixed types. Specify dtype option on import or set low_memory=False.\n",
      "  cus_orignal = pd.read_csv(cus_path)\n"
     ]
    },
    {
     "name": "stdout",
     "output_type": "stream",
     "text": [
      "<class 'pandas.core.frame.DataFrame'>\n",
      "RangeIndex: 13647309 entries, 0 to 13647308\n",
      "Data columns (total 48 columns):\n",
      " #   Column                 Dtype  \n",
      "---  ------                 -----  \n",
      " 0   fecha_dato             object \n",
      " 1   ncodpers               int64  \n",
      " 2   ind_empleado           object \n",
      " 3   pais_residencia        object \n",
      " 4   sexo                   object \n",
      " 5   age                    object \n",
      " 6   fecha_alta             object \n",
      " 7   ind_nuevo              float64\n",
      " 8   antiguedad             object \n",
      " 9   indrel                 float64\n",
      " 10  ult_fec_cli_1t         object \n",
      " 11  indrel_1mes            object \n",
      " 12  tiprel_1mes            object \n",
      " 13  indresi                object \n",
      " 14  indext                 object \n",
      " 15  conyuemp               object \n",
      " 16  canal_entrada          object \n",
      " 17  indfall                object \n",
      " 18  tipodom                float64\n",
      " 19  cod_prov               float64\n",
      " 20  nomprov                object \n",
      " 21  ind_actividad_cliente  float64\n",
      " 22  renta                  float64\n",
      " 23  segmento               object \n",
      " 24  ind_ahor_fin_ult1      int64  \n",
      " 25  ind_aval_fin_ult1      int64  \n",
      " 26  ind_cco_fin_ult1       int64  \n",
      " 27  ind_cder_fin_ult1      int64  \n",
      " 28  ind_cno_fin_ult1       int64  \n",
      " 29  ind_ctju_fin_ult1      int64  \n",
      " 30  ind_ctma_fin_ult1      int64  \n",
      " 31  ind_ctop_fin_ult1      int64  \n",
      " 32  ind_ctpp_fin_ult1      int64  \n",
      " 33  ind_deco_fin_ult1      int64  \n",
      " 34  ind_deme_fin_ult1      int64  \n",
      " 35  ind_dela_fin_ult1      int64  \n",
      " 36  ind_ecue_fin_ult1      int64  \n",
      " 37  ind_fond_fin_ult1      int64  \n",
      " 38  ind_hip_fin_ult1       int64  \n",
      " 39  ind_plan_fin_ult1      int64  \n",
      " 40  ind_pres_fin_ult1      int64  \n",
      " 41  ind_reca_fin_ult1      int64  \n",
      " 42  ind_tjcr_fin_ult1      int64  \n",
      " 43  ind_valo_fin_ult1      int64  \n",
      " 44  ind_viv_fin_ult1       int64  \n",
      " 45  ind_nomina_ult1        float64\n",
      " 46  ind_nom_pens_ult1      float64\n",
      " 47  ind_recibo_ult1        int64  \n",
      "dtypes: float64(8), int64(23), object(17)\n",
      "memory usage: 4.9+ GB\n"
     ]
    }
   ],
   "source": [
    "cus_path = 'original-datasets-from-kaggle/santander-product-recommendation/train_ver2.csv'\n",
    "cus_orignal = pd.read_csv(cus_path)\n",
    "\n",
    "cus_orignal.info()"
   ]
  },
  {
   "cell_type": "code",
   "execution_count": null,
   "id": "1a62320a",
   "metadata": {},
   "outputs": [],
   "source": [
    "trans_apth = 'original-datasets-from-kaggle/financial-transactions/transactions_data.csv'\n",
    "trans_orignal = pd.read_csv(cus_path)\n",
    "\n",
    "trans_orignal.info()"
   ]
  }
 ],
 "metadata": {
  "kernelspec": {
   "display_name": "base",
   "language": "python",
   "name": "python3"
  },
  "language_info": {
   "codemirror_mode": {
    "name": "ipython",
    "version": 3
   },
   "file_extension": ".py",
   "mimetype": "text/x-python",
   "name": "python",
   "nbconvert_exporter": "python",
   "pygments_lexer": "ipython3",
   "version": "3.12.7"
  }
 },
 "nbformat": 4,
 "nbformat_minor": 5
}
